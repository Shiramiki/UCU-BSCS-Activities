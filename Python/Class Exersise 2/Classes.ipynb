{
 "cells": [
  {
   "cell_type": "code",
   "execution_count": 5,
   "metadata": {},
   "outputs": [
    {
     "name": "stdout",
     "output_type": "stream",
     "text": [
      "<__main__.MyClass object at 0x00000214B4077D90>\n",
      "<__main__.MyClass object at 0x00000214B4076FD0>\n",
      "<class '__main__.MyClass'>\n",
      "<class '__main__.MyClass'>\n"
     ]
    }
   ],
   "source": [
    "class  MyClass:\n",
    "    pass\n",
    "\n",
    "object1 = MyClass()\n",
    "object2 = MyClass()\n",
    "\n",
    "print(object1)\n",
    "print(object2)\n",
    "print(type(object1))\n",
    "print(type(object2))\n"
   ]
  },
  {
   "cell_type": "markdown",
   "metadata": {},
   "source": [
    "\n",
    "\n",
    "    Classes are used to create data types. This where we get Object oriented programing\n",
    "    A class is user defined datatype or a blueprint of a datatype\n",
    "\n",
    "    An object is an instance of a class\n",
    "    def __init__(self):\n",
    "        creates objects \n",
    "\n",
    "    All Functions in a class are called a method. \n",
    "    in a class we either find methods or variables/ datatypes or tools\n",
    "\n",
    "    danda function- is a function with double underscore. \n",
    "    create a instance of a class (to instantiate)\n",
    "\n"
   ]
  },
  {
   "cell_type": "code",
   "execution_count": 6,
   "metadata": {},
   "outputs": [
    {
     "name": "stdout",
     "output_type": "stream",
     "text": [
      "green\n",
      "orange\n"
     ]
    }
   ],
   "source": [
    "class MyClass1():\n",
    "    def __init__(self):\n",
    "        self.color = \"green\"\n",
    "        self.fruit = \"orange\"\n",
    "\n",
    "fruit1 = MyClass1()\n",
    "\n",
    "print(fruit1.color)\n",
    "print(fruit1.fruit)\n",
    "\n"
   ]
  },
  {
   "cell_type": "code",
   "execution_count": 7,
   "metadata": {},
   "outputs": [
    {
     "name": "stdout",
     "output_type": "stream",
     "text": [
      "Yellow\n",
      "Papaya\n"
     ]
    }
   ],
   "source": [
    "fruit2 = MyClass1\n",
    "fruit2.color = \"Yellow\"\n",
    "fruit2.name = \"Papaya\"\n",
    "\n",
    "print(fruit2.color)\n",
    "print(fruit2.name)"
   ]
  }
 ],
 "metadata": {
  "kernelspec": {
   "display_name": "Python 3",
   "language": "python",
   "name": "python3"
  },
  "language_info": {
   "codemirror_mode": {
    "name": "ipython",
    "version": 3
   },
   "file_extension": ".py",
   "mimetype": "text/x-python",
   "name": "python",
   "nbconvert_exporter": "python",
   "pygments_lexer": "ipython3",
   "version": "3.11.5"
  }
 },
 "nbformat": 4,
 "nbformat_minor": 2
}
